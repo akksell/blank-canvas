{
 "cells": [
  {
   "cell_type": "code",
   "execution_count": 73,
   "metadata": {},
   "outputs": [
    {
     "name": "stdout",
     "output_type": "stream",
     "text": [
      "Requirement already satisfied: mediapipe in c:\\users\\mzhan\\appdata\\local\\programs\\python\\python311\\lib\\site-packages (0.10.8)\n",
      "Requirement already satisfied: absl-py in c:\\users\\mzhan\\appdata\\local\\programs\\python\\python311\\lib\\site-packages (from mediapipe) (2.0.0)\n",
      "Requirement already satisfied: attrs>=19.1.0 in c:\\users\\mzhan\\appdata\\local\\programs\\python\\python311\\lib\\site-packages (from mediapipe) (23.1.0)\n",
      "Requirement already satisfied: flatbuffers>=2.0 in c:\\users\\mzhan\\appdata\\local\\programs\\python\\python311\\lib\\site-packages (from mediapipe) (23.5.26)\n",
      "Requirement already satisfied: matplotlib in c:\\users\\mzhan\\appdata\\local\\programs\\python\\python311\\lib\\site-packages (from mediapipe) (3.8.1)\n",
      "Requirement already satisfied: numpy in c:\\users\\mzhan\\appdata\\local\\programs\\python\\python311\\lib\\site-packages (from mediapipe) (1.26.2)\n",
      "Requirement already satisfied: opencv-contrib-python in c:\\users\\mzhan\\appdata\\local\\programs\\python\\python311\\lib\\site-packages (from mediapipe) (4.8.1.78)\n",
      "Requirement already satisfied: protobuf<4,>=3.11 in c:\\users\\mzhan\\appdata\\local\\programs\\python\\python311\\lib\\site-packages (from mediapipe) (3.20.3)\n",
      "Requirement already satisfied: sounddevice>=0.4.4 in c:\\users\\mzhan\\appdata\\local\\programs\\python\\python311\\lib\\site-packages (from mediapipe) (0.4.6)\n",
      "Requirement already satisfied: CFFI>=1.0 in c:\\users\\mzhan\\appdata\\local\\programs\\python\\python311\\lib\\site-packages (from sounddevice>=0.4.4->mediapipe) (1.16.0)\n",
      "Requirement already satisfied: contourpy>=1.0.1 in c:\\users\\mzhan\\appdata\\local\\programs\\python\\python311\\lib\\site-packages (from matplotlib->mediapipe) (1.2.0)\n",
      "Requirement already satisfied: cycler>=0.10 in c:\\users\\mzhan\\appdata\\local\\programs\\python\\python311\\lib\\site-packages (from matplotlib->mediapipe) (0.12.1)\n",
      "Requirement already satisfied: fonttools>=4.22.0 in c:\\users\\mzhan\\appdata\\local\\programs\\python\\python311\\lib\\site-packages (from matplotlib->mediapipe) (4.44.0)\n",
      "Requirement already satisfied: kiwisolver>=1.3.1 in c:\\users\\mzhan\\appdata\\local\\programs\\python\\python311\\lib\\site-packages (from matplotlib->mediapipe) (1.4.5)\n",
      "Requirement already satisfied: packaging>=20.0 in c:\\users\\mzhan\\appdata\\roaming\\python\\python311\\site-packages (from matplotlib->mediapipe) (23.2)\n",
      "Requirement already satisfied: pillow>=8 in c:\\users\\mzhan\\appdata\\local\\programs\\python\\python311\\lib\\site-packages (from matplotlib->mediapipe) (10.1.0)\n",
      "Requirement already satisfied: pyparsing>=2.3.1 in c:\\users\\mzhan\\appdata\\local\\programs\\python\\python311\\lib\\site-packages (from matplotlib->mediapipe) (3.1.1)\n",
      "Requirement already satisfied: python-dateutil>=2.7 in c:\\users\\mzhan\\appdata\\roaming\\python\\python311\\site-packages (from matplotlib->mediapipe) (2.8.2)\n",
      "Requirement already satisfied: pycparser in c:\\users\\mzhan\\appdata\\local\\programs\\python\\python311\\lib\\site-packages (from CFFI>=1.0->sounddevice>=0.4.4->mediapipe) (2.21)\n",
      "Requirement already satisfied: six>=1.5 in c:\\users\\mzhan\\appdata\\roaming\\python\\python311\\site-packages (from python-dateutil>=2.7->matplotlib->mediapipe) (1.16.0)\n"
     ]
    },
    {
     "name": "stderr",
     "output_type": "stream",
     "text": [
      "\n",
      "[notice] A new release of pip available: 22.3.1 -> 23.3.1\n",
      "[notice] To update, run: python.exe -m pip install --upgrade pip\n"
     ]
    },
    {
     "name": "stdout",
     "output_type": "stream",
     "text": [
      "Requirement already satisfied: numpy in c:\\users\\mzhan\\appdata\\local\\programs\\python\\python311\\lib\\site-packages (1.26.2)\n"
     ]
    },
    {
     "name": "stderr",
     "output_type": "stream",
     "text": [
      "\n",
      "[notice] A new release of pip available: 22.3.1 -> 23.3.1\n",
      "[notice] To update, run: python.exe -m pip install --upgrade pip\n"
     ]
    }
   ],
   "source": [
    "!pip install mediapipe\n",
    "!pip install numpy"
   ]
  },
  {
   "cell_type": "code",
   "execution_count": 60,
   "metadata": {},
   "outputs": [],
   "source": [
    "import mediapipe as mp\n",
    "from mediapipe.tasks import python\n",
    "from mediapipe.tasks.python import vision\n",
    "import os\n",
    "import json\n",
    "from numpy import dot\n",
    "from numpy.linalg import norm"
   ]
  },
  {
   "cell_type": "code",
   "execution_count": 37,
   "metadata": {},
   "outputs": [],
   "source": [
    "model_path = 'mobilenet_v3_small_075_224_embedder.tflite'"
   ]
  },
  {
   "cell_type": "code",
   "execution_count": 58,
   "metadata": {},
   "outputs": [],
   "source": [
    "BaseOptions = mp.tasks.BaseOptions\n",
    "ImageEmbedder = mp.tasks.vision.ImageEmbedder\n",
    "ImageEmbedderOptions = mp.tasks.vision.ImageEmbedderOptions\n",
    "VisionRunningMode = mp.tasks.vision.RunningMode\n",
    "\n",
    "options = ImageEmbedderOptions(\n",
    "    base_options=BaseOptions(model_asset_path=model_path),\n",
    "    quantize=True,\n",
    "    running_mode=VisionRunningMode.IMAGE)\n",
    "\n",
    "embeddings = {}\n",
    "\n",
    "with ImageEmbedder.create_from_options(options) as embedder:\n",
    "    for root, dirs, files in os.walk('cartoon\\\\train'):       \n",
    "        for file in files:\n",
    "            image_path = os.path.join(root, file)\n",
    "            try:\n",
    "                # Embed the current image\n",
    "                current_mp_image = mp.Image.create_from_file(image_path)\n",
    "                current_embedding_result = embedder.embed(current_mp_image)\n",
    "\n",
    "                embeddings[image_path] = current_embedding_result.embeddings[0].embedding.tolist()\n",
    "\n",
    "            except RuntimeError as e:\n",
    "                continue"
   ]
  },
  {
   "cell_type": "code",
   "execution_count": 59,
   "metadata": {},
   "outputs": [],
   "source": [
    "with open(\"embeddings.txt\", \"w\") as fp:\n",
    "    json.dump(embeddings, fp)"
   ]
  },
  {
   "cell_type": "code",
   "execution_count": 63,
   "metadata": {},
   "outputs": [],
   "source": [
    "data = {}\n",
    "\n",
    "with open('embeddings.txt', 'r') as fp:\n",
    "    data = json.load(fp)"
   ]
  },
  {
   "cell_type": "code",
   "execution_count": 67,
   "metadata": {},
   "outputs": [
    {
     "data": {
      "text/plain": [
       "['cartoon\\\\train\\\\donald\\\\donald_1.png',\n",
       " 'cartoon\\\\train\\\\donald\\\\donald_10.png',\n",
       " 'cartoon\\\\train\\\\donald\\\\donald_100.gif',\n",
       " 'cartoon\\\\train\\\\donald\\\\donald_101.png',\n",
       " 'cartoon\\\\train\\\\donald\\\\donald_102.jpeg']"
      ]
     },
     "execution_count": 67,
     "metadata": {},
     "output_type": "execute_result"
    }
   ],
   "source": [
    "list(data.keys())[:5]"
   ]
  },
  {
   "cell_type": "code",
   "execution_count": 70,
   "metadata": {},
   "outputs": [],
   "source": [
    "def cos_sim(a, b):\n",
    "    return dot(a, b)/(norm(a)*norm(b))"
   ]
  },
  {
   "cell_type": "code",
   "execution_count": 72,
   "metadata": {},
   "outputs": [
    {
     "name": "stdout",
     "output_type": "stream",
     "text": [
      "('cartoon\\\\train\\\\mickey\\\\mickey_329.png', 0.8334171079686072)\n",
      "('cartoon\\\\train\\\\mickey\\\\mickey_5.png', 0.8222460876267234)\n",
      "('cartoon\\\\train\\\\mickey\\\\mickey_529.png', 0.8191190224977545)\n",
      "('cartoon\\\\train\\\\mickey\\\\mickey_377.jpg', 0.8151130428540543)\n",
      "('cartoon\\\\train\\\\mickey\\\\mickey_481.jpg', 0.81410606919268)\n",
      "('cartoon\\\\train\\\\mickey\\\\mickey_276.png', 0.812734189088538)\n",
      "('cartoon\\\\train\\\\mickey\\\\mickey_468.png', 0.8117458002774546)\n",
      "('cartoon\\\\train\\\\mickey\\\\mickey_277.png', 0.811173131686667)\n",
      "('cartoon\\\\train\\\\mickey\\\\mickey_131.png', 0.8097303702412663)\n",
      "('cartoon\\\\train\\\\mickey\\\\mickey_353.png', 0.8092662380565608)\n"
     ]
    }
   ],
   "source": [
    "cosines = {}\n",
    "\n",
    "with ImageEmbedder.create_from_options(options) as embedder:\n",
    "    query_mp_image = mp.Image.create_from_file(\"cartoon\\\\test\\\\mickey\\\\0-4256_baby-clipart-disney-baby-mickey-mouse-transparent-background.jpg\")\n",
    "    query_embedding_result = embedder.embed(query_mp_image).embeddings[0].embedding.tolist()\n",
    "\n",
    "    for i in data.keys():\n",
    "        cosines[i] = cos_sim(query_embedding_result, data[i])\n",
    "\n",
    "for i in sorted(cosines.items(), key=lambda x:x[1], reverse=True)[:10]:\n",
    "    print(i)"
   ]
  }
 ],
 "metadata": {
  "kernelspec": {
   "display_name": "Python 3",
   "language": "python",
   "name": "python3"
  },
  "language_info": {
   "codemirror_mode": {
    "name": "ipython",
    "version": 3
   },
   "file_extension": ".py",
   "mimetype": "text/x-python",
   "name": "python",
   "nbconvert_exporter": "python",
   "pygments_lexer": "ipython3",
   "version": "3.11.3"
  }
 },
 "nbformat": 4,
 "nbformat_minor": 2
}
